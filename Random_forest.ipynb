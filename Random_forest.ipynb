{
 "cells": [
  {
   "cell_type": "code",
   "execution_count": 9,
   "metadata": {},
   "outputs": [],
   "source": [
    "import numpy as np\n",
    "from sklearn import preprocessing\n",
    "from sklearn.model_selection import train_test_split\n",
    "from sklearn.ensemble import RandomForestClassifier\n",
    "from sklearn import preprocessing\n"
   ]
  },
  {
   "cell_type": "code",
   "execution_count": 60,
   "metadata": {},
   "outputs": [],
   "source": [
    "f=open('data1.txt')\n",
    "a=[]\n",
    "y=[]\n",
    "x=[]\n",
    "for line in f :\n",
    "    a.append(line.replace('\\n','\\t').split('\\t')[0:4])\n",
    "for i in a:\n",
    "    y.append(i[0])\n",
    "    x.append(float(i[1]))\n",
    "    x.append(float(i[2]))\n",
    "    x.append(float(i[3]))\n",
    "X=np.array(x)\n",
    "Y=np.array(y)\n",
    "X=X.reshape(-1,3) # back to 2D representation"
   ]
  },
  {
   "cell_type": "code",
   "execution_count": 61,
   "metadata": {},
   "outputs": [],
   "source": [
    "lb = preprocessing.LabelBinarizer()\n",
    "lb.fit(Y)\n",
    "lb.classes_\n",
    "Y=lb.transform(Y) # Y is now a one Hot vector\n",
    "Y_new = np.zeros(Y.shape[0])\n",
    "for j in range(Y.shape[0]):\n",
    "    Y_new[j] = int(np.argmax(Y[j]))\n",
    "Y=Y_new\n",
    "X=preprocessing.normalize(X)"
   ]
  },
  {
   "cell_type": "code",
   "execution_count": 62,
   "metadata": {},
   "outputs": [],
   "source": [
    "X_train, X_test, y_train, y_test = train_test_split(X, Y, test_size=0.33)"
   ]
  },
  {
   "cell_type": "code",
   "execution_count": 63,
   "metadata": {},
   "outputs": [
    {
     "data": {
      "text/plain": [
       "RandomForestClassifier(bootstrap=True, class_weight=None, criterion='gini',\n",
       "            max_depth=20, max_features='auto', max_leaf_nodes=None,\n",
       "            min_impurity_decrease=0.0, min_impurity_split=None,\n",
       "            min_samples_leaf=1, min_samples_split=2,\n",
       "            min_weight_fraction_leaf=0.0, n_estimators=10, n_jobs=1,\n",
       "            oob_score=False, random_state=0, verbose=0, warm_start=False)"
      ]
     },
     "execution_count": 63,
     "metadata": {},
     "output_type": "execute_result"
    }
   ],
   "source": [
    "ran = RandomForestClassifier(max_depth=20, random_state=0)\n",
    "ran.fit(X_train,y_train)"
   ]
  },
  {
   "cell_type": "code",
   "execution_count": 64,
   "metadata": {},
   "outputs": [
    {
     "name": "stdout",
     "output_type": "stream",
     "text": [
      "Training Accuracy : 99.0774907749\n"
     ]
    }
   ],
   "source": [
    "y_pred = ran.predict(X_train)\n",
    "count = 0 \n",
    "for j in range (y_train.shape[0]):\n",
    "    if y_train[j] == y_pred[j]:\n",
    "        count = count + 1\n",
    "print \"Training Accuracy :\" ,count*100.0/y_train.shape[0]"
   ]
  },
  {
   "cell_type": "code",
   "execution_count": 65,
   "metadata": {},
   "outputs": [
    {
     "name": "stdout",
     "output_type": "stream",
     "text": [
      "Test Accuracy :  46.0674157303\n"
     ]
    }
   ],
   "source": [
    "y_pred = ran.predict(X_test)\n",
    "count = 0 \n",
    "for j in range (y_test.shape[0]):\n",
    "    if y_test[j] == y_pred[j]:\n",
    "        count = count + 1\n",
    "print \"Test Accuracy : \",count*100.0/y_test.shape[0]"
   ]
  },
  {
   "cell_type": "code",
   "execution_count": null,
   "metadata": {},
   "outputs": [],
   "source": []
  }
 ],
 "metadata": {
  "kernelspec": {
   "display_name": "Python 3",
   "language": "python",
   "name": "python3"
  },
  "language_info": {
   "codemirror_mode": {
    "name": "ipython",
    "version": 2
   },
   "file_extension": ".py",
   "mimetype": "text/x-python",
   "name": "python",
   "nbconvert_exporter": "python",
   "pygments_lexer": "ipython2",
   "version": "2.7.12"
  }
 },
 "nbformat": 4,
 "nbformat_minor": 2
}

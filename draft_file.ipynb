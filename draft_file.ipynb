{
 "cells": [
  {
   "cell_type": "code",
   "execution_count": 306,
   "metadata": {},
   "outputs": [],
   "source": [
    "import numpy as np"
   ]
  },
  {
   "cell_type": "code",
   "execution_count": 390,
   "metadata": {},
   "outputs": [
    {
     "name": "stdout",
     "output_type": "stream",
     "text": [
      "[-1.06302559  4.34787035  8.78193188]\n"
     ]
    }
   ],
   "source": [
    "f=open('data1.txt')\n",
    "a=[]\n",
    "y=[]\n",
    "x=[]\n",
    "for line in f :\n",
    "    a.append(line.replace('\\n','\\t').split('\\t')[0:4])\n",
    "for i in a:\n",
    "    y.append(i[0])\n",
    "    x.append(float(i[1]))\n",
    "    x.append(float(i[2]))\n",
    "    x.append(float(i[3]))\n",
    "X=np.array(x)\n",
    "Y=np.array(y)\n",
    "X=X.reshape(-1,3) # back to 2D representation\n",
    "print X[0]"
   ]
  },
  {
   "cell_type": "code",
   "execution_count": 391,
   "metadata": {},
   "outputs": [
    {
     "name": "stdout",
     "output_type": "stream",
     "text": [
      "[-0.10784703  0.44110404  0.89095243]\n"
     ]
    }
   ],
   "source": [
    "from sklearn import preprocessing\n",
    "lb = preprocessing.LabelBinarizer()\n",
    "lb.fit(Y)\n",
    "lb.classes_\n",
    "Y=lb.transform(Y) # Y is now a one Hot vector\n",
    "Y.shape\n",
    "X=preprocessing.normalize(X)"
   ]
  },
  {
   "cell_type": "code",
   "execution_count": 376,
   "metadata": {},
   "outputs": [],
   "source": [
    "from sklearn.model_selection import train_test_split\n",
    "X_train, X_test, y_train, y_test = train_test_split(X, Y, test_size=0.33)"
   ]
  },
  {
   "cell_type": "code",
   "execution_count": 377,
   "metadata": {},
   "outputs": [],
   "source": [
    "from keras.models import Sequential \n",
    "from keras.layers import Dense,Dropout\n",
    "lam_bda = 0.2\n",
    "from keras import regularizers"
   ]
  },
  {
   "cell_type": "code",
   "execution_count": 378,
   "metadata": {},
   "outputs": [
    {
     "name": "stdout",
     "output_type": "stream",
     "text": [
      "Epoch 1/15\n",
      "542/542 [==============================] - 0s 639us/step - loss: 0.6558 - acc: 0.6403\n",
      "Epoch 2/15\n",
      "542/542 [==============================] - 0s 123us/step - loss: 0.5973 - acc: 0.7855\n",
      "Epoch 3/15\n",
      "542/542 [==============================] - 0s 132us/step - loss: 0.5451 - acc: 0.9471\n",
      "Epoch 4/15\n",
      "542/542 [==============================] - 0s 126us/step - loss: 0.4987 - acc: 0.9778\n",
      "Epoch 5/15\n",
      "542/542 [==============================] - 0s 114us/step - loss: 0.4575 - acc: 0.9783\n",
      "Epoch 6/15\n",
      "542/542 [==============================] - 0s 139us/step - loss: 0.4209 - acc: 0.9783\n",
      "Epoch 7/15\n",
      "542/542 [==============================] - 0s 116us/step - loss: 0.3884 - acc: 0.9783\n",
      "Epoch 8/15\n",
      "542/542 [==============================] - 0s 136us/step - loss: 0.3596 - acc: 0.9783\n",
      "Epoch 9/15\n",
      "542/542 [==============================] - 0s 141us/step - loss: 0.3341 - acc: 0.9783\n",
      "Epoch 10/15\n",
      "542/542 [==============================] - 0s 129us/step - loss: 0.3114 - acc: 0.9783\n",
      "Epoch 11/15\n",
      "542/542 [==============================] - 0s 182us/step - loss: 0.2912 - acc: 0.9783\n",
      "Epoch 12/15\n",
      "542/542 [==============================] - 0s 115us/step - loss: 0.2732 - acc: 0.9783\n",
      "Epoch 13/15\n",
      "542/542 [==============================] - 0s 144us/step - loss: 0.2572 - acc: 0.9783\n",
      "Epoch 14/15\n",
      "542/542 [==============================] - 0s 127us/step - loss: 0.2429 - acc: 0.9783\n",
      "Epoch 15/15\n",
      "542/542 [==============================] - 0s 123us/step - loss: 0.2300 - acc: 0.9783\n"
     ]
    },
    {
     "data": {
      "text/plain": [
       "<keras.callbacks.History at 0x7f5e8f1093d0>"
      ]
     },
     "execution_count": 378,
     "metadata": {},
     "output_type": "execute_result"
    }
   ],
   "source": [
    "model = Sequential()\n",
    "model.add(Dense(46, input_dim=3, activation='sigmoid'))\n",
    "#model.add(Dropout(0.8))\n",
    "#model.add(Dense(46, activation='sigmoid')) # 46 in data1 41 in data2\n",
    "# Compile model\n",
    "model.compile(loss='binary_crossentropy', optimizer='adam', metrics=['accuracy'])\n",
    "# Fit the model\n",
    "model.fit(X_train, y_train, epochs=15, batch_size=10)"
   ]
  },
  {
   "cell_type": "code",
   "execution_count": 379,
   "metadata": {},
   "outputs": [
    {
     "name": "stdout",
     "output_type": "stream",
     "text": [
      "25\n"
     ]
    }
   ],
   "source": [
    "y_pred = model.predict(X_test)\n",
    "count = 0 \n",
    "for i in range(y_test.shape[0]):\n",
    "    if np.argmax(y_pred[i]) == np.argmax(y_test[i]):\n",
    "        count = count + 1\n",
    "print count"
   ]
  },
  {
   "cell_type": "code",
   "execution_count": 380,
   "metadata": {},
   "outputs": [
    {
     "name": "stdout",
     "output_type": "stream",
     "text": [
      "30.0\n"
     ]
    }
   ],
   "source": [
    "Y_new = np.zeros(Y.shape[0])\n",
    "for j in range(Y.shape[0]):\n",
    "    Y_new[j] = int(np.argmax(Y[j]))\n",
    "print Y_new[3]"
   ]
  },
  {
   "cell_type": "code",
   "execution_count": 381,
   "metadata": {},
   "outputs": [
    {
     "data": {
      "text/plain": [
       "SVC(C=1.0, cache_size=200, class_weight=None, coef0=0.0,\n",
       "  decision_function_shape='ovr', degree=3, gamma='auto', kernel='rbf',\n",
       "  max_iter=-1, probability=False, random_state=None, shrinking=True,\n",
       "  tol=0.001, verbose=False)"
      ]
     },
     "execution_count": 381,
     "metadata": {},
     "output_type": "execute_result"
    }
   ],
   "source": [
    "X_new_train, X_new_test, y_new_train, y_new_test = train_test_split(X, Y_new, test_size=0.33)\n",
    "from sklearn import svm\n",
    "clf=svm.SVC(coef0=0.0)\n",
    "clf.fit(X_new_train,y_new_train)"
   ]
  },
  {
   "cell_type": "code",
   "execution_count": 382,
   "metadata": {},
   "outputs": [
    {
     "name": "stdout",
     "output_type": "stream",
     "text": [
      "16.8539325843\n"
     ]
    }
   ],
   "source": [
    "y_new_pred = clf.predict(X_new_test)\n",
    "count = 0 \n",
    "for j in range (y_new_test.shape[0]):\n",
    "    if y_new_test[j] == y_new_pred[j]:\n",
    "        count = count + 1\n",
    "print count*100.0/y_new_test.shape[0]"
   ]
  },
  {
   "cell_type": "code",
   "execution_count": 383,
   "metadata": {},
   "outputs": [
    {
     "name": "stdout",
     "output_type": "stream",
     "text": [
      "19.0036900369\n"
     ]
    }
   ],
   "source": [
    "y_new_pred = clf.predict(X_new_train)\n",
    "count = 0 \n",
    "for j in range (y_new_train.shape[0]):\n",
    "    if y_new_train[j] == y_new_pred[j]:\n",
    "        count = count + 1\n",
    "print count*100.0/y_new_train.shape[0]"
   ]
  },
  {
   "cell_type": "code",
   "execution_count": 384,
   "metadata": {},
   "outputs": [
    {
     "name": "stdout",
     "output_type": "stream",
     "text": [
      "267\n"
     ]
    }
   ],
   "source": [
    "print X_new_test.shape[0]"
   ]
  },
  {
   "cell_type": "code",
   "execution_count": 389,
   "metadata": {},
   "outputs": [
    {
     "name": "stdout",
     "output_type": "stream",
     "text": [
      "[0.45217141 0.25131211 0.85579393]\n"
     ]
    }
   ],
   "source": [
    "from sklearn.ensemble import RandomForestClassifier\n",
    "ran = RandomForestClassifier(max_depth=20, random_state=0)\n",
    "ran.fit(X_new_train,y_new_train)\n",
    "print X_new_train[17]"
   ]
  },
  {
   "cell_type": "code",
   "execution_count": 386,
   "metadata": {},
   "outputs": [
    {
     "name": "stdout",
     "output_type": "stream",
     "text": [
      "98.5239852399\n"
     ]
    }
   ],
   "source": [
    "y_new_pred = ran.predict(X_new_train)\n",
    "count = 0 \n",
    "for j in range (y_new_train.shape[0]):\n",
    "    if y_new_train[j] == y_new_pred[j]:\n",
    "        count = count + 1\n",
    "print count*100.0/y_new_train.shape[0]"
   ]
  },
  {
   "cell_type": "code",
   "execution_count": 387,
   "metadata": {},
   "outputs": [
    {
     "name": "stdout",
     "output_type": "stream",
     "text": [
      "48.3146067416\n"
     ]
    }
   ],
   "source": [
    "y_new_pred = ran.predict(X_new_test)\n",
    "count = 0 \n",
    "for j in range (y_new_test.shape[0]):\n",
    "    if y_new_test[j] == y_new_pred[j]:\n",
    "        count = count + 1\n",
    "print count*100.0/y_new_test.shape[0]"
   ]
  },
  {
   "cell_type": "code",
   "execution_count": 369,
   "metadata": {},
   "outputs": [
    {
     "data": {
      "text/plain": [
       "KNeighborsClassifier(algorithm='auto', leaf_size=30, metric='minkowski',\n",
       "           metric_params=None, n_jobs=1, n_neighbors=1, p=2,\n",
       "           weights='uniform')"
      ]
     },
     "execution_count": 369,
     "metadata": {},
     "output_type": "execute_result"
    }
   ],
   "source": [
    "from sklearn.neighbors import KNeighborsClassifier\n",
    "neigh = KNeighborsClassifier(n_neighbors=1)\n",
    "neigh.fit(X_new_train, y_new_train) "
   ]
  },
  {
   "cell_type": "code",
   "execution_count": 370,
   "metadata": {},
   "outputs": [
    {
     "name": "stdout",
     "output_type": "stream",
     "text": [
      "100.0\n"
     ]
    }
   ],
   "source": [
    "y_new_pred = neigh.predict(X_new_train)\n",
    "count = 0 \n",
    "for j in range (y_new_train.shape[0]):\n",
    "    if y_new_train[j] == y_new_pred[j]:\n",
    "        count = count + 1\n",
    "print count*100.0/y_new_train.shape[0]"
   ]
  },
  {
   "cell_type": "code",
   "execution_count": 371,
   "metadata": {},
   "outputs": [
    {
     "name": "stdout",
     "output_type": "stream",
     "text": [
      "49.063670412\n"
     ]
    }
   ],
   "source": [
    "y_new_pred = neigh.predict(X_new_test)\n",
    "count = 0 \n",
    "for j in range (y_new_test.shape[0]):\n",
    "    if y_new_test[j] == y_new_pred[j]:\n",
    "        count = count + 1\n",
    "print count*100.0/y_new_test.shape[0]"
   ]
  },
  {
   "cell_type": "code",
   "execution_count": null,
   "metadata": {},
   "outputs": [],
   "source": []
  },
  {
   "cell_type": "code",
   "execution_count": null,
   "metadata": {},
   "outputs": [],
   "source": []
  }
 ],
 "metadata": {
  "kernelspec": {
   "display_name": "Python 3",
   "language": "python",
   "name": "python3"
  },
  "language_info": {
   "codemirror_mode": {
    "name": "ipython",
    "version": 2
   },
   "file_extension": ".py",
   "mimetype": "text/x-python",
   "name": "python",
   "nbconvert_exporter": "python",
   "pygments_lexer": "ipython2",
   "version": "2.7.12"
  }
 },
 "nbformat": 4,
 "nbformat_minor": 2
}
